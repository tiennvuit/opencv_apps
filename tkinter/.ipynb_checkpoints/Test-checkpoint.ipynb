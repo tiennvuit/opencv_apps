{
 "cells": [
  {
   "cell_type": "code",
   "execution_count": 7,
   "metadata": {},
   "outputs": [
    {
     "ename": "AttributeError",
     "evalue": "module 'thinker' has no attribute 'Tk'",
     "output_type": "error",
     "traceback": [
      "\u001b[1;31m---------------------------------------------------------------------------\u001b[0m",
      "\u001b[1;31mAttributeError\u001b[0m                            Traceback (most recent call last)",
      "\u001b[1;32m<ipython-input-7-caf41cf7d75f>\u001b[0m in \u001b[0;36m<module>\u001b[1;34m\u001b[0m\n\u001b[0;32m      3\u001b[0m \u001b[1;33m\u001b[0m\u001b[0m\n\u001b[0;32m      4\u001b[0m \u001b[1;31m# Initialize the window manager by Thinker.Tk() and assign it to window variable\u001b[0m\u001b[1;33m\u001b[0m\u001b[1;33m\u001b[0m\u001b[1;33m\u001b[0m\u001b[0m\n\u001b[1;32m----> 5\u001b[1;33m \u001b[0mwindow\u001b[0m \u001b[1;33m=\u001b[0m \u001b[0mtk\u001b[0m\u001b[1;33m.\u001b[0m\u001b[0mTk\u001b[0m\u001b[1;33m(\u001b[0m\u001b[1;33m)\u001b[0m\u001b[1;33m\u001b[0m\u001b[1;33m\u001b[0m\u001b[0m\n\u001b[0m\u001b[0;32m      6\u001b[0m \u001b[1;33m\u001b[0m\u001b[0m\n\u001b[0;32m      7\u001b[0m \u001b[1;31m# Rename the title of the window as you like with\u001b[0m\u001b[1;33m\u001b[0m\u001b[1;33m\u001b[0m\u001b[1;33m\u001b[0m\u001b[0m\n",
      "\u001b[1;31mAttributeError\u001b[0m: module 'thinker' has no attribute 'Tk'"
     ]
    }
   ],
   "source": [
    "# Import module Thinker\n",
    "import thinker as tk\n",
    "\n",
    "# Initialize the window manager by Thinker.Tk() and assign it to window variable\n",
    "window = tk.Thinker()\n",
    "\n",
    "# Rename the title of the window as you like with\n",
    "title = \"The first Thinker example\"\n",
    "window.title(title)\n",
    "\n",
    "# Insert some text into the window\n",
    "text = \"Hello World !\"\n",
    "# Display the widget in size it requires\n",
    "lable = tk.Label(window, text=text).pack()\n",
    "\n",
    "# Using mainloop() method to display the window until we manually close it.\n",
    "# It runs an infinite loop in backend.\n",
    "window.mainloop()\n"
   ]
  },
  {
   "cell_type": "code",
   "execution_count": 10,
   "metadata": {},
   "outputs": [
    {
     "name": "stdout",
     "output_type": "stream",
     "text": [
      "Help on module thinker.thinker in thinker:\n",
      "\n",
      "NAME\n",
      "    thinker.thinker\n",
      "\n",
      "DESCRIPTION\n",
      "    # Rethinkdb wrapper for asyncio\n",
      "    # https://github.com/mehmetkose/thinker\n",
      "\n",
      "CLASSES\n",
      "    builtins.object\n",
      "        Thinker\n",
      "    \n",
      "    class Thinker(builtins.object)\n",
      "     |  Methods defined here:\n",
      "     |  \n",
      "     |  all(self, table)\n",
      "     |  \n",
      "     |  filter(self, table, criterion, limit=False)\n",
      "     |  \n",
      "     |  flush(self, table)\n",
      "     |  \n",
      "     |  get(self, table, record_id)\n",
      "     |  \n",
      "     |  index(self, table, key)\n",
      "     |  \n",
      "     |  insert(self, table, insert_dict)\n",
      "     |  \n",
      "     |  insert_unique(self, table, check_dict, insert_dict)\n",
      "     |  \n",
      "     |  iterate_cursor(self, cursor)\n",
      "     |  \n",
      "     |  list(self, table, key='get', value='all', index='update_date', order='desc', create_index=False, limit=False)\n",
      "     |  \n",
      "     |  list_contains_with_key(self, table, key, value, limit=200)\n",
      "     |  \n",
      "     |  remove(self, table, record_id)\n",
      "     |  \n",
      "     |  remove_all_with_key(self, table, key, value)\n",
      "     |  \n",
      "     |  remove_one_with_key(self, table, key, value)\n",
      "     |  \n",
      "     |  update(self, table, id, data)\n",
      "     |  \n",
      "     |  update_all_with_key(self, table, key, value, data)\n",
      "     |  \n",
      "     |  update_one_with_key(self, table, key, value, data)\n",
      "     |  \n",
      "     |  ----------------------------------------------------------------------\n",
      "     |  Class methods defined here:\n",
      "     |  \n",
      "     |  init(scheme, create_scheme=True, loop_type='asyncio', event_loop=False) from builtins.type\n",
      "     |  \n",
      "     |  ----------------------------------------------------------------------\n",
      "     |  Data descriptors defined here:\n",
      "     |  \n",
      "     |  __dict__\n",
      "     |      dictionary for instance variables (if defined)\n",
      "     |  \n",
      "     |  __weakref__\n",
      "     |      list of weak references to the object (if defined)\n",
      "\n",
      "FILE\n",
      "    c:\\users\\pc\\anaconda3\\lib\\site-packages\\thinker\\thinker.py\n",
      "\n",
      "\n"
     ]
    }
   ],
   "source": [
    "help(tk.thinker)"
   ]
  },
  {
   "cell_type": "code",
   "execution_count": null,
   "metadata": {},
   "outputs": [],
   "source": []
  }
 ],
 "metadata": {
  "kernelspec": {
   "display_name": "Python 3",
   "language": "python",
   "name": "python3"
  },
  "language_info": {
   "codemirror_mode": {
    "name": "ipython",
    "version": 3
   },
   "file_extension": ".py",
   "mimetype": "text/x-python",
   "name": "python",
   "nbconvert_exporter": "python",
   "pygments_lexer": "ipython3",
   "version": "3.7.6"
  },
  "latex_envs": {
   "LaTeX_envs_menu_present": true,
   "autoclose": false,
   "autocomplete": true,
   "bibliofile": "biblio.bib",
   "cite_by": "apalike",
   "current_citInitial": 1,
   "eqLabelWithNumbers": true,
   "eqNumInitial": 1,
   "hotkeys": {
    "equation": "Ctrl-E",
    "itemize": "Ctrl-I"
   },
   "labels_anchors": false,
   "latex_user_defs": false,
   "report_style_numbering": false,
   "user_envs_cfg": false
  },
  "toc": {
   "base_numbering": 1,
   "nav_menu": {},
   "number_sections": false,
   "sideBar": true,
   "skip_h1_title": true,
   "title_cell": "Table of Contents",
   "title_sidebar": "Contents",
   "toc_cell": false,
   "toc_position": {},
   "toc_section_display": true,
   "toc_window_display": false
  }
 },
 "nbformat": 4,
 "nbformat_minor": 4
}
